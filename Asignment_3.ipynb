{
 "cells": [
  {
   "cell_type": "code",
   "execution_count": null,
   "metadata": {},
   "outputs": [],
   "source": []
  },
  {
   "cell_type": "markdown",
   "metadata": {},
   "source": [
    "<center><h1>Assignment_3</h1></center>\n",
    "\n",
    "## Map, Filter, Reduce\n",
    "- Map, Filter, and Reduce are paradigms of functional programming. They allow the programmer (you) to write simpler, shorter code, without neccessarily needing to bother about intricacies like loops and branching.\n",
    " - 1.**Reduce()**:- \n",
    " - 2.**Filter()**:-\n",
    " - 3.**map()**:-"
   ]
  },
  {
   "cell_type": "markdown",
   "metadata": {},
   "source": [
    "### 1.1 Write a Python Program to implement your own myreduce() function which works exactly like Python's built-in function reduce()"
   ]
  },
  {
   "cell_type": "code",
   "execution_count": 18,
   "metadata": {},
   "outputs": [
    {
     "name": "stdout",
     "output_type": "stream",
     "text": [
      "10\n"
     ]
    }
   ],
   "source": [
    "# using reduce function\n",
    "from functools import reduce\n",
    "\n",
    "numbers = range(5)\n",
    "\n",
    "def custom_sum(first, second):\n",
    "    return first + second\n",
    "\n",
    "result = reduce(custom_sum, numbers)\n",
    "print(result)"
   ]
  },
  {
   "cell_type": "code",
   "execution_count": 19,
   "metadata": {},
   "outputs": [
    {
     "name": "stdout",
     "output_type": "stream",
     "text": [
      "ENter the number = 5\n",
      "input lists =  [1, 2, 3, 4]\n",
      "sum of list items =  10\n"
     ]
    }
   ],
   "source": [
    "#without reduce function\n",
    "#num_list = [10,10,20]\n",
    "number  = int(input(\"ENter the number = \"))\n",
    "def myreduce(num):\n",
    "    num_list = list(range(1,number))\n",
    "    sum_ = 0\n",
    "    \n",
    "    for i in num_list:\n",
    "        sum_+=i\n",
    "        \n",
    "        \n",
    "    print(\"input lists = \", num_list)\n",
    "    print(\"sum of list items = \" ,sum_)\n",
    "    #return num_list\n",
    "  \n",
    "myreduce(number)\n",
    "    \n",
    "\n",
    "    "
   ]
  },
  {
   "cell_type": "markdown",
   "metadata": {},
   "source": [
    "### 1.2 Write a Python program to implement your own myfilter() function which works exactly like Python's built-in function filter()"
   ]
  },
  {
   "cell_type": "code",
   "execution_count": 4,
   "metadata": {},
   "outputs": [
    {
     "name": "stdout",
     "output_type": "stream",
     "text": [
      "[90, 76, 88, 81]\n"
     ]
    }
   ],
   "source": [
    "scores = [66, 90, 68, 59, 76, 60, 88, 74, 81, 65]\n",
    "\n",
    "def is_A_student(score):\n",
    "    return score > 75\n",
    "\n",
    "over_75 = list(filter(is_A_student, scores))\n",
    "\n",
    "print(over_75)"
   ]
  },
  {
   "cell_type": "code",
   "execution_count": 26,
   "metadata": {},
   "outputs": [
    {
     "name": "stdout",
     "output_type": "stream",
     "text": [
      "ENter the number = 200\n",
      "[90, 110, 130, 150, 170, 190]\n"
     ]
    }
   ],
   "source": [
    "number = int(input(\"ENter the number = \"))\n",
    "scores = list(range(30,number,20))\n",
    "output = []\n",
    "def my_filter(num):\n",
    "    for i in scores:\n",
    "        if i> 70:\n",
    "            output.append(i)\n",
    "    print(output)\n",
    "    \n",
    "    \n",
    "my_filter(number)\n",
    "    \n",
    "    "
   ]
  },
  {
   "cell_type": "markdown",
   "metadata": {},
   "source": [
    "### 2. Implement List comprehensions to produce the following lists. Write List comprehensions to produce the following Lists\n",
    "['A', 'C', 'A', 'D', 'G', 'I', ’L’, ‘ D’] ['x', 'xx', 'xxx', 'xxxx', 'y', 'yy', 'yyy', 'yyyy', 'z', 'zz', 'zzz', 'zzzz'] ['x', 'y', 'z', 'xx', 'yy', 'zz', 'xx', 'yy', 'zz', 'xxxx', 'yyyy', 'zzzz'] [[2], [3], [4], [3], [4], [5], [4], [5], [6]] [[2, 3, 4, 5], [3, 4, 5, 6], [4, 5, 6, 7], [5, 6, 7, 8]] [(1, 1), (2, 1), (3, 1), (1, 2), (2, 2), (3, 2), (1, 3), (2, 3), (3, 3)]"
   ]
  },
  {
   "cell_type": "code",
   "execution_count": 17,
   "metadata": {},
   "outputs": [
    {
     "name": "stdout",
     "output_type": "stream",
     "text": [
      "['A', 'C', 'A', 'D', 'G', 'I', 'L', 'D']\n",
      "['x', 'xx', 'xxx', 'xxxx', 'y', 'yy', 'yyy', 'yyyy', 'z', 'zz', 'zzz', 'zzzz']\n",
      "['x', 'y', 'z', 'xx', 'yy', 'zz', 'xxx', 'yyy', 'zzz', 'xxxx', 'yyyy', 'zzzz']\n",
      "[[2], [3], [4], [3], [4], [5], [4], [5], [6]]\n",
      "[[2], [3], [4], [5], [3], [4], [5], [6], [4], [5], [6], [7], [5], [6], [7], [8]]\n",
      "[(1, 1), (2, 1), (3, 1), (1, 2), (2, 2), (3, 2), (1, 3), (2, 3), (3, 3)]\n"
     ]
    }
   ],
   "source": [
    "#case1\n",
    "string = \"ACADGILD\"\n",
    "output_1 = []\n",
    "for i in list(string):\n",
    "   \n",
    "    output_1.append(i)\n",
    "print(output_1)\n",
    "\n",
    "#case 2\n",
    "second_list = list('xyz')\n",
    "output_2 =[]\n",
    "for i in second_list:\n",
    "    for j in range(1,5):\n",
    "        #print(i*j)\n",
    "        output_2.append(i*j)\n",
    "print(output_2)\n",
    "        \n",
    "#case 3\n",
    "lst = list('xyz')\n",
    "output_3 = []\n",
    "for i in range(1,5):\n",
    "    for j in lst:\n",
    "        output_3.append(i*j)\n",
    "print(output_3)\n",
    "\n",
    "#4\n",
    "number = [2,3,4]\n",
    "output_4 = []\n",
    "for i in number:\n",
    "    for j in range(0,3):\n",
    "        output_4.append([i+j])\n",
    "print(output_4)\n",
    "\n",
    "number = [2,3,4,5]\n",
    "output_5 = []\n",
    "for i in range(0,4):\n",
    "    for j in number:\n",
    "        output_5.append([i+j])\n",
    "print(output_5)\n",
    "\n",
    "\n",
    "number = [1,2,3]\n",
    "output_5= []\n",
    "for i in number:\n",
    "    for j in number:\n",
    "        output_5.append((j,i))\n",
    "print(number_5)\n"
   ]
  }
 ],
 "metadata": {
  "kernelspec": {
   "display_name": "Python 3",
   "language": "python",
   "name": "python3"
  },
  "language_info": {
   "codemirror_mode": {
    "name": "ipython",
    "version": 3
   },
   "file_extension": ".py",
   "mimetype": "text/x-python",
   "name": "python",
   "nbconvert_exporter": "python",
   "pygments_lexer": "ipython3",
   "version": "3.7.3"
  }
 },
 "nbformat": 4,
 "nbformat_minor": 2
}
